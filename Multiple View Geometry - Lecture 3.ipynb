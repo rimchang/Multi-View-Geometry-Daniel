{
 "cells": [
  {
   "cell_type": "markdown",
   "metadata": {},
   "source": [
    "![title](./src/lecture3/001.png)\n",
    "3d space를 어떻게 모델링하고, 이를 카메라 모션으로 어떻게 변환하는지를 배울 것이다. li group, li algebra에 대해 배울 것이다. li group은 이름에서 알수 있듯이 group이며 카메라의 transform 들을 일종의 group으로 나타낸다. \n",
    "\n",
    "#### 3차원 유클리디언 공간\n",
    "\n",
    "3차원 유클리디언 공간을 다들 잘 알듯이 3개의 canonical basis에 대한 coordinate로 나타낸다. 즉 3차원 유클리디언 공간의 점들은 3개의 real value로 나타낼 수 있다. 3차원 유클리디언 공간은 R^3과 동일한 공간인데 3개의 real value coordinate로 표현할 수 있기 때문이다. 그래서 3차원 유클리디언 공간과 3차원 실수공간은 exchangable하다고 말한다. <b>하지만 엄격히 말해서는 E^3은 유클리디언 공간에서의 point를 나타내며 R^3는 단지 coordinate일 뿐이다.</b> \n",
    "\n",
    "free vector : vector in space that can be moved around (a vector whose definition\n",
    "does not depend on its base point *at book*) ex) $p=X=(p_1,p_2,p_3)^T, q=Y=(q_1,q_2,q_3)^T, p'=X'=(p_1',p_2',p_3')^T, q'=Y'=(q_1',q_2',q_3')^T $ 의 네 점이 있을때 $Y-X=Y'-X'$ 이면 즉 Y-X 라는 bound vector와 Y'-X' bound vector는 같은 free vector를 나타낸다. base에 상관없기 때문에.. X=0으로 두면 v=Y가 된다.\n",
    "\n",
    "### the reader should keep in mind that points and vectors are different geometric objects"
   ]
  },
  {
   "cell_type": "markdown",
   "metadata": {},
   "source": [
    "![title](./src/lecture3/002.png)\n",
    "3차원 실수공간에서는 벡터의 외적이 정의되어져있고.. 외적을 매트릭스로 나타내면 skew-symmetric matrix로 표현된다. \n",
    "\n",
    "모든 3x3 skew-symmetric matrix는 어떤 벡터 u와 동일한데. 이는 skew-symmetric matrix의 u1,u2,u3 부분을 element로 가지는 (u1,u2,u3) 이라는 벡터와 일대일 대응 관계이기 때문이다. \n",
    "\n",
    "^ 이라는 operator를 정의하는데 (u1,u2,u3) 의 벡터를 받아서 skew-symmetric matrix로 매핑해주는 연산이 된다. v 라는 operator도 정의하며 이는 ^의 역연산이며 skew-symmetirc matrix를 (u1,u2,u3) 벡터로 매핑해주는 사상이다. skew-symmetric matrix로 이루어진 group을 little special orhthogonal group so(n) 이라고 한다. 왜 비슷한 노테이션이냐면.. SO는 li group이며 so는 li algebra라고 한다.. 나중에 살펴본대.\n",
    "\n"
   ]
  },
  {
   "cell_type": "markdown",
   "metadata": {},
   "source": [
    "![title](./src/lecture3/003.png)\n",
    "이전에 rigid-body motion을 살펴봤었다. 이는 transition, rotation 만을 하는 연산이며 카메라의 외부변수와 관련되어져 있다. 또한 선형공간에서는 되며 SE(n) group이 이러한 종류이다. \n",
    "\n",
    "rigid-body motion을 다르게 정의해볼건데. 좀더 rigid-body 라는 단어와 관련이 있다. 만약 우리가 rigid(고정된? 엄격한?)-body를 움직이고 싶다고 해보자. 즉 이의미는 벡터의 길이가 보존된다는 것이다.\n",
    "\n",
    "#### rigid-body motion definition(고정된 객체가 transition,rotation만 할때의 motion)\n",
    "\n",
    "1. 벡터의 norm을 보존\n",
    "2. 벡터의 cross product를 보존(이 조건이 없이 1.만 만족한다면 , (x1,x2,x3)^T -> (x1,x2,-x3)^T를 고려해보자.. 이는 물체가 flip되는 형태 이는 물리적으로 우리가 원하는 것이 아니다.. cross product는 꼭 필요한 조건이다)\n",
    "\n",
    "우리는 이 정의에서 rotation과 관련된 것을 찾아 볼 수가 없다. 추후 이것이 어떻게 rotation과 관련되어지는지 살펴볼 것이다. \n",
    "\n",
    "#### props\n",
    "\n",
    "1. norm이 보존되면 inner product도 보존된다. 극화항등식(polarization identity, 평행사변형과 관련되어있나보다.)은 내적을 저런꼴로 표현하는데.. g(u),g(y) 다 넣어서 풀어보면 내적형태가 나온다. [내적공간과 노름공간](http://soojishin.com/archives/faln-inner-product-spaces-and-normed-spaces/) 블로그에 의하면 polarization identity을 만족하는 norm => 내적공간을 정의할 수 잇으며, 내적에 의해 정의된 norm은 항상 polarization identity를 만족한다고 한다.\n",
    "\n",
    "2. 즉 inner product, cross product를 보존함으로 외적하고 내적해도 보존된다. 이를 triple product이라고 한다. 이 의미는 세 백터로 만드는 volume을 보존한다는 것이다. (스칼라 삼중곱의 절댓값은 기하학적으로 스칼라 삼중곱의 3개의 벡터로 정의되는 평행육면체의 부피로 정의된다.두벡터의 외적의 절대값은 두 벡터가 이루는 평행사변형의 넓이.)\n",
    "\n",
    "정리하면 rigid-body motion은 길이(norm),angle(inner product)를 보존한다는걸 알 수있다. 추가로 rotation도 ..!!(다음장에 다룸)\n",
    " \n",
    "The fact that distances and orientations are preserved in a rigid motion means that individual points cannot translate relative to each other. 길이와, orientation을 보존한다는 의미는 각각의 개별 포인트들이 서로 상대적으로 translation할 수 없다는 의미이다.\n",
    "\n"
   ]
  },
  {
   "cell_type": "markdown",
   "metadata": {},
   "source": [
    "![title](./src/lecture3/004.png)\n",
    "이제는 preserve norm, cross-product 의 성질이 rotation을 보존한다는 것을 알아보자.이는.. 위에서의 정의가 SO(n)의 정의와 동치라는 것을 보일 것이다. 이는 수학에서 많이 하는 것인데.. 서로 다르게 정의하고 둘이 동치라는 걸 보이면 양쪽에서의 성질을 알아볼 수 있다!!\n",
    "\n",
    "여기서 하는 것은 caresian basis에다가 preserve norm, cross product이면 어떤 일들이 일어나는지를 살펴보려고 한다. 세개의 벡터 e1,e2,e3 를 정의하고 어떤일이 벌어날지를 보자 여기서 하나 주목할 점은 e1,e2,e3 basis에 대한 motion은 즉 translation을 나타낸다. transformed 벡터를 r1,r2,r3 로 나타내\n",
    "각각의 내적을 구해보면 $\\delta_{ij}$이 되며 두 벡터의 외적은 남은 하나가 된다.\n",
    "\n",
    "앞의 텀은 r1,r2,r3를 칼럼벡터로하는 매트릭스 R을 생각해보면.. 이것이 rotation matrix가 되며 , 두번째 텀은 det(R)=1 이라는 것을 나타낸다.(앞에서 rotation matrix는 det(R)= 1 or -1 이라는 것을 배웠는데 외적을 보존한다는 것 때문에.. flip하는 즉 det(R)=-1인 부분은 제외하게 된다.) 즉 이것은 SE(n)(ppt에선 SO로 잘못쓴듯?) 에 대한 정의이다!!\n",
    "\n",
    "결론적으로 rigid-body motion은 마지막 텀같이 쓸수있다. (왜냐? SE(n)이랑 동치니까! 1챕터를 다시 보자.. SE(n)은 Rx+T로 쓸수있다.)\n",
    "\n",
    "SE(n)은 infinitesimal rotation 이다. 각도는 실수이므로... 엄청나게 많은.. group의 요소들이 존재한다. 즉 continuous group이라는 소리이며.. continous하게 각도를 움직일 수 있다는 뜻이다.. translation도 마찬가지일듯.\n",
    "\n",
    "**in book)** \n",
    "\n",
    "![title](./src/lecture3/005.png)\n",
    "\n",
    "rigid body motion은 몸체에 어떤 point에 대한 motion으로 설명될 수 있고 그 포인트에 coordinate frame이 붙어 있다고 설명 할 수 있다. \n",
    "위의 그림을 보면 카메라의 중앙에 point가 있고 이 point에 orthnormal coordinate frame이 붙어 있는 것이다. 즉 카메라를 회전하면 이 frame도 같이 회전하고.. 움직이면 같이 움직이는...그러한 상상을 해보면 된다!!"
   ]
  },
  {
   "cell_type": "markdown",
   "metadata": {},
   "source": [
    "![title](./src/lecture3/006.png)\n",
    "두장의 이미지가 있고 rigid-body motion을 계산하고 싶다고 해보자. 그럼 우리는 일반적으로 3x3 매트릭스를 구해야 하는데 det(R)=1 , R^TR=I(이런성질을 만족하는 매트릭스를 정규직교매트릭스라고 한다.) 인 조건을 만족하도록 R을 구해야한다. 이를 optimization 으로 풀기엔... 구현하기가 매우 어렵다..\n",
    "\n",
    "그래서 다른 representation을 찾아야 하고.. non-liner representation을 찾아야한다.(R_30 + R_60 은 rotation matrix가 아니며.. 즉 이 의미는 SE(n)이 linear space가 아니라는 것)\n",
    "\n",
    "먼저 우리는 R(t)를 생각한다. 이는 시간에 대한 각도의 함수로써.. 카메라가 객체주의를 움직일때와 같을때의 motion을 나타낸다.\n",
    "\n",
    "R(t)R(t)^T = I 는 자명한 사실이며(SO(3) 의 성질)  \n",
    "time에 관한 함수가 상수(여기선 I) 이면 ...  \n",
    "t에대한 미분은 0이여야 한다. 모든 t에 대해서 상수를 얻을 수 있고 즉 미분하면 $\\dot{R(t)}R(t) = -(\\dot{R(t)}R(t))^T $ 이 된다.  \n",
    "여기서 $\\dot{R(t)}R(t) = -(\\dot{R(t)}R(t))^T $은 skew-symmetric 의 정의이고.. 1장에서 배웠듯이 skew-symmetric에 대응하는 한 vector w를 구할 수 있다.\n",
    "\n",
    "if $R(t_0) = I\\,\\, for \\,\\,  t=t_0$ 즉.. t_0 에서.. canonical axis라고 가정하면... $\\dot{R(t_0)} = \\hat{w}(t_0)$ 라고 쓸수 잇다. 요걸 테일러 1차 전개하면 맨 밑과 같이 나온대!\n",
    "\n",
    "여기서 한 것은 결국 SO(3)는 non-linear group 인데.. 30 rotation + 40 rotation != rotation matrix이다.. SO(3) 라는 Li group에 해당하는 so(3) (little so(3)) skew-symmetric matrix를 얻은 것이다. 여기서 skew-symmetric matrix w_hat은... non-linear space SO(3) 의 접선이 되게 된다..(왜인지는 모르겠다.) "
   ]
  },
  {
   "cell_type": "markdown",
   "metadata": {},
   "source": [
    "![title](./src/lecture3/007.png)"
   ]
  },
  {
   "cell_type": "markdown",
   "metadata": {},
   "source": [
    "![title](./src/lecture3/009.png)"
   ]
  },
  {
   "cell_type": "markdown",
   "metadata": {},
   "source": [
    "![title](./src/lecture3/008.png)\n",
    "lie algebra(skew-symetrric)에서 lie group(rotation)을 어떻게 얻을 수 있을까? "
   ]
  },
  {
   "cell_type": "markdown",
   "metadata": {},
   "source": [
    "![title](./src/lecture3/010.png)"
   ]
  },
  {
   "cell_type": "markdown",
   "metadata": {},
   "source": [
    "![title](./src/lecture3/011.png)"
   ]
  },
  {
   "cell_type": "markdown",
   "metadata": {},
   "source": [
    "![title](./src/lecture3/012.png)"
   ]
  }
 ],
 "metadata": {
  "kernelspec": {
   "display_name": "Python 3",
   "language": "python",
   "name": "python3"
  },
  "language_info": {
   "codemirror_mode": {
    "name": "ipython",
    "version": 3
   },
   "file_extension": ".py",
   "mimetype": "text/x-python",
   "name": "python",
   "nbconvert_exporter": "python",
   "pygments_lexer": "ipython3",
   "version": "3.5.2"
  }
 },
 "nbformat": 4,
 "nbformat_minor": 2
}
