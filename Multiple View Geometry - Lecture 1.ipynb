{
 "cells": [
  {
   "cell_type": "markdown",
   "metadata": {},
   "source": [
    "![title](./src/lecture1/001.png)"
   ]
  },
  {
   "cell_type": "markdown",
   "metadata": {},
   "source": [
    "![title](./src/lecture1/002.png)"
   ]
  },
  {
   "cell_type": "markdown",
   "metadata": {},
   "source": [
    "![title](./src/lecture1/003.png)\n",
    "vector space는 summation, scalar multiplication에 닫혀 있는 그룹이며, 분배법칙이 성립한다. 이를 보이려면 11가지의 성질들을 만족하는지를 보여야 한다(선형대수학 시간때 벡터스페이스를 보이는 것을 기억해보자) \n",
    "\n",
    "하지만 어떤 space W가 vector space의 subspace라는 것을 안다면 영벡터를 포함하고, summation, scalar multiplication에 닫혀있는 것만을 보이면 이는 vector space가 된다"
   ]
  },
  {
   "cell_type": "markdown",
   "metadata": {},
   "source": [
    "![title](./src/lecture1/004.png)\n",
    "일차독립이 아니라면 하나의 벡터를 다른 벡터의 linear combination으로 만들 수 있다는 말이 된다. 그리고 이 벡터는 space에 redundant한 벡터가 된다. 필요없는 벡터가 된다.\n",
    "\n",
    "즉 일차독립의 직관적 의미는 space를 구성하기 위해 redundant한 벡터가 없다는 말이며 모든 벡터가 space를 구성하기 위해 필요하다는 뜻이 된다.\n",
    "\n",
    "baisis of V의 정의는 indepedent vector, it's span 이 V가 되는 벡터들을 기저라고한다. 즉 rank와 같은 갯수의 vector가 independent 하면 기저가 된다. "
   ]
  },
  {
   "cell_type": "markdown",
   "metadata": {},
   "source": [
    "![title](./src/lecture1/005.png)\n",
    "1. 기저벡터의 갯수를 vector space의 차원이라고 한다.\n",
    "2. vector space의 모든 벡터는 basis의 lienar combination으로 유니크하게 표현가능하다.\n",
    "3. 또한 다른 basis도 basis를 통해 표현 할 수 있는데 이를 basis transform이라고 한다. "
   ]
  },
  {
   "cell_type": "markdown",
   "metadata": {},
   "source": [
    "![title](./src/lecture1/006.png)\n",
    "내적의 특징\n",
    "\n",
    "1. Linear\n",
    "2. Symmetric\n",
    "3. positive definite\n",
    "\n",
    "내적으로 부터 norm,  metric 을 정의할 수 있다. \n",
    "infinity하게 많은 metric을 정의할 수 있으며 유클리디언 매트릭은 그 중 하나의 예일뿐이다.\n",
    "\n",
    "metric이 존재하는 space를 metric space라고 하며, 그 중 내적에 의해 정의된 metric을 가진 space를 Hilbert space라고 한다. (일반적인 metric은 내적에 의해 정의되지 않는다.)\n",
    "\n"
   ]
  },
  {
   "cell_type": "markdown",
   "metadata": {},
   "source": [
    "![title](./src/lecture1/007.png)\n",
    "Canonical Inner Product : 우리가 알고 있는 일반적인 내적, 이 내적으로 부터 L2-norm, Euclidean norm을 정의할 수 있다. \n",
    "\n",
    "Induced inner product : basis transform에 의해서 정의되는 다른 공간의 내적을 말한다. B기저와 A기저, 그리고 그 basis transform을 알고 있다면.. respecto some other basis의 내적이 다음과 같이 유도된다고 함, 이는 dual space상에서의 내적 과 관련이 있다고 한다."
   ]
  },
  {
   "cell_type": "markdown",
   "metadata": {},
   "source": [
    "![title](./src/lecture1/008.png)\n",
    "Kronecker product : 처음보는 product인데.. 두매트릭스간의 product를 통해서 더 큰 매트릭스를 만드는 연산,, 두 매트릭스를 결합하는데 유용한 연산이라고 한다. 나중에 살펴본대\n",
    "\n",
    "stack : mxn 매트릭스가 있다고 했을때 칼럼을 짤라서 행으로 다 붙이는 연산 매트릭스를 vector로 만드는 연산이라고 한다. 매트릭스를 rearange할때 많이 사용한다.\n",
    "\n",
    "맨밑의 수식은 일종의 bilinear form인데 이를 Kronecker product, stack을 통해 나타낼수 있다. 즉 이는 bilinear form이 A_s(A의 element들) 의 linear combination이라는 것을 명시적으로 보여준다. "
   ]
  },
  {
   "cell_type": "markdown",
   "metadata": {},
   "source": [
    "![title](./src/lecture1/009.png)\n",
    "Linear transformation : homogenous, addtive 한 transform을 말한다. Lienarity가 좋은점이.. basis에 대한 mapping만을 알면 transformation에 대한 모든 정보를 알게 되는 것이다. (any vector can representation by basis 라는 것을 기억해보라) \n",
    "\n",
    "A라는 매트릭스는 Lienar operation을 나타내게된다. 모든 선형사상은 매트릭스로 나타낼수 있으며 모든 매트릭스는 일종의 선형사상이다. \n",
    "\n",
    " M_mn의 매트릭스가 있다고 했을때 만약 m=n 이라면 이 squre matrix를 M(n) space라고 말하며 이는 field R에서의 Ring을 구성하게 된다. 이 의미는 matrix multiplication, summation에 닫혀있다는 뜻이며 두개의 square matrix를 곱하면 square matrix를 얻게 된다. summation도 마찬가지이다."
   ]
  },
  {
   "cell_type": "markdown",
   "metadata": {},
   "source": [
    "![title](./src/lecture1/010.png)\n",
    "group이라는 것을 살펴보자. matrix에는 특정한 group of matrices가 존재한다. 매트릭스 에는 inverse matrix라는 것이 존재한다. 역행렬은 언제나 구할 수 있는 것은 아니며 역행렬이 존재하는 매트릭스만을 모아놓은 group을 생각할 수가 있다.\n",
    "\n",
    "다음과 같은 4가지 성질을 만족하는 연산이 존재하는 set을 group이라고 한다.\n",
    "\n",
    "1. 연산에 닫혀있다.\n",
    "2. 결합법칙이 성립한다.\n",
    "3. 항등원이 존재한다\n",
    "4. 역원이 존재한다.\n",
    "\n",
    "invertible nxn 매트릭스는 group with respect to matrix multiplication이다. 이러한 그룹을 <b>general linear group</b>이라고 하며 determinant가 0이 아닌 매트릭스를 모아놓은 집합이다. 즉.. GL(n) (n의 의미는 nxn매트릭스.) 그룹을 생각해보면 Invertible matrix의 product를 통해 얻은 matrix는 또한 invertible matrix이다. (연산에 닫혀있기 때문에) 수많은 종류의 매트릭스에서의 group을 생각해 볼 수 있지만 GL 그룹이 가장 큰 그룹이라고 한다. (그룹은 역원이 존재해야 함으로.. GL 그룹이 가장 일반적인 형태의 그룹이다.)\n",
    "\n",
    "det(A) = 1 인 그룹을 <b>special linear group</b> 이라고 한다. 닫힌 연산인지 보이는 것은 트리비얼하지 않고 증명이 필요하다. 하여튼 이또한 sub-group이라는 것이 알려져 있다.\n"
   ]
  },
  {
   "cell_type": "markdown",
   "metadata": {},
   "source": [
    "![title](./src/lecture1/011.png)\n",
    "group이라는 것은.. 어떠한 추상적인 representation of group을 이야기 하는 것이다. \n",
    "\n",
    "예를 들어 보자. 멀티뷰 카메라를 동그랗게 구성했다고 생각해보자. 이들 카메라가 가질 수 있는 rotation을 생각해보면 이들은 group을 형성한다. \n",
    "1. 30도의 rotation degree와 40도의 rotation degree가 있다고 했을때 총 degree는 70도가 된다. 또한 이것은 여전히 각도를 나타내며 더하기에 닫혀있다. \n",
    "2. 30도 + 40도 + 10도 = 30도 + (40도 + 10도) 가 된다. 결합법칙이 성립한다.\n",
    "3. 0도는 항등원이다.\n",
    "4. 30도에대한 역원은 -30도 이다.\n",
    "\n",
    "즉 rotation 은 group with respect to add이다. 이를 어떻게 representation 할까 매트릭스로 나타내면 된다. !!\n",
    "\n",
    "$A_\\Theta = \\begin{bmatrix}\n",
    "cos\\theta  & sin\\theta\\\\-sin\\theta \n",
    " & cos\\theta\n",
    "\\end{bmatrix} \\,\\,\\,\\, where \\,\\, \\theta \\in [0, 2\\pi ]$\n",
    "\n",
    "위의 매트릭스는 rotation group을 나타내게 된다. \n",
    "\n",
    "어떤 any group G에서 GL(n) 으로의 단사함수(일대일-대응) 가 존재한다면 matrix group으로 볼 수 있으며 매트릭스로 group을 나타낼 수 있게 된다. 위의 예제에서는 A_theta가 R이 된다.\n",
    "\n",
    "group의 항등원에 대해 Identity matrix로 매핑하며, 분배법칙이 적용되는 group의 경우 <b>preserve the group structure</b> 라고 하며 이때의 R을 <b>group homomorphism </b> 라고 한다.\n",
    "\n",
    "이와같은 짓들을 왜 하느냐 rotation의 경우에 z축으로 30도 회전하고 x축으로 100도, y축으로 20도 회전한다고 하면 이러한 것들을 머리속으로는 하기 힘들다. 이렇게 matrix representation을 활용함으로써 단순 매트릭스 곱으로 나타낼 수 있으며!!! 매트릭스에 대한 잘 알려진 성질들을 활용할 수 있게된다. "
   ]
  },
  {
   "cell_type": "markdown",
   "metadata": {},
   "source": [
    "![title](./src/lecture1/012.png)\n",
    "affine group이라는 것을 살펴보자. A는 GL(n) 이여야 한며 b는 벡터이다. A가 GL이라는 뜻은 invertible 해야 한다는 걸 내포하고 있다. \n",
    "\n",
    "Ax+b 는 linear 하지 않다. 이를 homogenous coordinate를 사용하면 밑과 같이 나타낼 수 있고 이 homogenous matrix는 GL(n+1) 의 엘레멘트가 된다. (만약 A가 역행렬이 존재한다면 A의 singluar value는 0이 아니고 여기에 1을 곱해도 0이 아니게 된다.) \n",
    "\n"
   ]
  },
  {
   "cell_type": "markdown",
   "metadata": {},
   "source": [
    "![title](./src/lecture1/013.png)\n",
    "다른그룹으로는 orthogonal group이 있다. 이 그룹의 특징은 내적을 보존한다. 내적이 angle과 관련있다는 것을 생각해보자 즉 이 의미는 angle을 보존하는 group이라는 뜻이다. 즉 rotation matrix와 관련이 되어져 있다. O(n) 과 SL(n)의 교집합이 즉 n매트릭스에서의 모든 rotation matrix를 나타낸다고 한다. \n",
    "\n",
    "여기서 하나 주목할 점이 det(R) =1 인 매트릭스가 그룹이 된다고 했는데 det(R)=-1 인 경우는 group이 될 수 있을까? det(R)=-1 인 두개의 매트릭스를 곱하면 det(R)=-1이 되지 않게 된다. 가장 간단한 counter example로는 \n",
    "\n",
    "$ \\begin{pmatrix}\n",
    " 1& 0\\\\0 \n",
    " & -1\n",
    "\\end{pmatrix} \\begin{pmatrix}\n",
    " 1& 0\\\\0 \n",
    " & -1\n",
    "\\end{pmatrix} = \\begin{pmatrix}\n",
    " 1& 0\\\\0 \n",
    " & 1\n",
    "\\end{pmatrix} $\n",
    "\n",
    "이 된다.\n",
    "\n",
    "또한 하나더 생각해 볼 것은 det(R)=-1 인 rotation matrix는 무엇을 의미할까? 위의 매트릭스를 살펴보자 y축을 flip하는 매트릭스이다. 이런 매트릭스는 mirroring matrix라고 부르며 이는 rotation이 아니다.\n",
    "\n",
    "정리하자면 orthogonal matrix는 GL(n)의 엘리먼트이고 RR^T=I 인 매트릭스의 집합이다. 이는 mirroring or rotation matrix를 나타낸다.\n"
   ]
  },
  {
   "cell_type": "markdown",
   "metadata": {},
   "source": [
    "![title](./src/lecture1/014.png)\n",
    "유클리디언 group은 O(n)의 subset이다. 이는 mirroring or rotation을 하고 T만큼 translation하는 연산으로 볼 수 있다.  \n",
    "\n",
    "이때 det(R)=1 즉 rotation matrix라면.. 이를 <b>special Euclidean group SE(n)</b> 이라고 하며 이는 매우 중요한 group이다.  이는 <b>rigid -body motion</b> 이라고도 불리는데 카메라 내부변수를 제외하고 외부에서 취할수 있는 모든 transform(카메라를 회전 하거나 tranlation)을 나타낸다.\n",
    "\n"
   ]
  },
  {
   "cell_type": "markdown",
   "metadata": {},
   "source": [
    "![title](./src/lecture1/015.png)\n",
    "range :  A의 column vector를 통해 얻을 수 있는 R^m 공간에서의 subspace를 의미한다. 2x2매트릭스에서 range(1) 이라면.. R^2 공간에서의 subspace R 밖에 얻을 수 없다는 뜻이다\n",
    "\n",
    "null space : R^n 공간에서의 0으로 매핑되는 subspace를 말한다.\n",
    "\n",
    "이러한 range, null space 은 linear equation의 solution의 갯수를 나타낸다. \n",
    "1. there is solution <=> b in range(A)(A로 만들수 있는 space에 b가 있다면)\n",
    "2. unique solution <=> ker(A)=0\n",
    "3. non_unique solution <=> ker(A)!=0 (만약 x_o in ker(A) 라면 A(x_s+x_0) = Ax_s+Ax_0 = b+0 = b \n",
    "\n",
    "결론은 range, null-space는 linear equation의 솔루션에 대한 정보를 준다."
   ]
  },
  {
   "cell_type": "markdown",
   "metadata": {},
   "source": [
    "![title](./src/lecture1/016.png)\n",
    "4. 가우시안 조단 쓴다음.. 남아있는 kxk 매트릭스에서의 남아있는 non-zero value가 rank(A) 를 의미한다.\n",
    "\n",
    "5. <b>Sylvester's inequality</b>이 특성은 좀 중요하다 !!이 의미는 두개의 매트릭스를 가지고 있다면 rank(AB) 에 대해 어떠한 힌트를 얻을 수 있다는 것이다. 예를들어 rank가 1인 A,B 매트릭스를 가지고 있다고 해보자. 그렇다면 1+1-1<=rank(AB)<= 1 으로써 rank(AB)=1이 되게 된다.\n",
    "\n",
    "6. invertible matrix와의 곱은 rank에는 영향을 끼치지 않는다. "
   ]
  }
 ],
 "metadata": {
  "kernelspec": {
   "display_name": "Python 3",
   "language": "python",
   "name": "python3"
  },
  "language_info": {
   "codemirror_mode": {
    "name": "ipython",
    "version": 3
   },
   "file_extension": ".py",
   "mimetype": "text/x-python",
   "name": "python",
   "nbconvert_exporter": "python",
   "pygments_lexer": "ipython3",
   "version": "3.5.2"
  }
 },
 "nbformat": 4,
 "nbformat_minor": 2
}
